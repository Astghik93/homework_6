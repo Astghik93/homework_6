{
 "cells": [
  {
   "cell_type": "code",
   "execution_count": 1,
   "metadata": {
    "collapsed": true
   },
   "outputs": [],
   "source": [
    "import quandl"
   ]
  },
  {
   "cell_type": "code",
   "execution_count": 2,
   "metadata": {
    "collapsed": true
   },
   "outputs": [],
   "source": [
    "import googlemaps\n",
    "from datetime import datetime"
   ]
  },
  {
   "cell_type": "code",
   "execution_count": 4,
   "metadata": {
    "collapsed": true
   },
   "outputs": [],
   "source": [
    "with open('quandl_key.txt','r') as f:\n",
    "    key_1 = f.read()"
   ]
  },
  {
   "cell_type": "code",
   "execution_count": 20,
   "metadata": {
    "collapsed": true
   },
   "outputs": [],
   "source": [
    "terms_of_trade=quandl.get(['WORLDBANK/ARM_TOT','WORLDBANK/LUX_TOT'], authtoken = key_1)"
   ]
  },
  {
   "cell_type": "code",
   "execution_count": 21,
   "metadata": {},
   "outputs": [
    {
     "name": "stdout",
     "output_type": "stream",
     "text": [
      "            WORLDBANK/ARM_TOT - Value  WORLDBANK/LUX_TOT - Value\n",
      "Date                                                            \n",
      "1960-12-31                        NaN                   1.134161\n",
      "1961-12-31                        NaN                   1.085041\n",
      "1962-12-31                        NaN                   1.058667\n",
      "1963-12-31                        NaN                   1.045383\n",
      "1964-12-31                        NaN                   1.046499\n",
      "1965-12-31                        NaN                   1.043360\n",
      "1966-12-31                        NaN                   1.037422\n",
      "1967-12-31                        NaN                   1.048266\n",
      "1968-12-31                        NaN                   1.061796\n",
      "1969-12-31                        NaN                   1.097165\n",
      "1970-12-31                        NaN                   1.162848\n",
      "1971-12-31                        NaN                   1.075662\n",
      "1972-12-31                        NaN                   1.084515\n",
      "1973-12-31                        NaN                   1.144173\n",
      "1974-12-31                        NaN                   1.182021\n",
      "1975-12-31                        NaN                   1.061710\n",
      "1976-12-31                        NaN                   1.085971\n",
      "1977-12-31                   0.942778                   1.016897\n",
      "1978-12-31                   0.975823                   1.026276\n",
      "1979-12-31                   1.077300                   1.024777\n",
      "1980-12-31                   1.224179                   1.023726\n",
      "1981-12-31                   1.188159                   1.019265\n",
      "1982-12-31                   1.157612                   1.034290\n",
      "1983-12-31                   1.144584                   1.015012\n",
      "1984-12-31                   0.955641                   0.994308\n",
      "1985-12-31                   1.045114                   1.003873\n",
      "1986-12-31                   0.856211                   0.997222\n",
      "1987-12-31                   0.875824                   0.987955\n",
      "1988-12-31                   0.882685                   0.999042\n",
      "1989-12-31                   0.927303                   1.003315\n",
      "1990-12-31                   0.989428                   0.989329\n",
      "1991-12-31                   0.989482                   0.977113\n",
      "1992-12-31                   0.988263                   0.967914\n",
      "1993-12-31                   1.304432                   0.991480\n",
      "1994-12-31                   0.990201                   1.001550\n",
      "1995-12-31                   0.990289                   1.004164\n",
      "1996-12-31                   0.990551                   1.012825\n",
      "1997-12-31                   0.990936                   0.977640\n",
      "1998-12-31                   0.990034                   0.967278\n",
      "1999-12-31                   0.990004                   0.988291\n",
      "2000-12-31                   0.990376                   0.966210\n",
      "2001-12-31                   0.990264                   0.958421\n",
      "2002-12-31                   0.990264                   0.967567\n",
      "2003-12-31                   0.990066                   1.008998\n",
      "2004-12-31                   0.999006                   0.997518\n",
      "2005-12-31                   1.000000                   1.000000\n",
      "2006-12-31                   1.000000                   1.019995\n",
      "2007-12-31                   0.964255                   1.024569\n",
      "2008-12-31                   0.898831                   1.019787\n",
      "2009-12-31                   0.788817                   1.022608\n",
      "2010-12-31                   0.942455                   1.050784\n",
      "2011-12-31                   0.920456                   1.068905\n",
      "2012-12-31                   0.850643                   1.058626\n",
      "2013-12-31                   0.859932                   1.055464\n",
      "2014-12-31                   0.864656                   1.056562\n",
      "2015-12-31                   0.868991                   1.058624\n"
     ]
    }
   ],
   "source": [
    "print(terms_of_trade)"
   ]
  },
  {
   "cell_type": "code",
   "execution_count": 22,
   "metadata": {
    "collapsed": true
   },
   "outputs": [],
   "source": [
    "import matplotlib.pyplot as plt\n",
    "%matplotlib inline"
   ]
  },
  {
   "cell_type": "code",
   "execution_count": 23,
   "metadata": {},
   "outputs": [
    {
     "data": {
      "image/png": "[encoded data removed]",
      "text/plain": [
       "<matplotlib.figure.Figure at 0xadc8f98>"
      ]
     },
     "metadata": {},
     "output_type": "display_data"
    }
   ],
   "source": [
    "terms_of_trade.plot()\n",
    "plt.ylabel(\"TOT\")\n",
    "plt.xlabel(\"Years\")\n",
    "plt.show()"
   ]
  },
  {
   "cell_type": "code",
   "execution_count": 24,
   "metadata": {},
   "outputs": [
    {
     "name": "stdout",
     "output_type": "stream",
     "text": [
      "<class 'pandas.core.frame.DataFrame'>\n",
      "DatetimeIndex: 56 entries, 1960-12-31 to 2015-12-31\n",
      "Data columns (total 2 columns):\n",
      "WORLDBANK/ARM_TOT - Value    39 non-null float64\n",
      "WORLDBANK/LUX_TOT - Value    56 non-null float64\n",
      "dtypes: float64(2)\n",
      "memory usage: 1.3 KB\n"
     ]
    }
   ],
   "source": [
    "terms_of_trade.info()"
   ]
  },
  {
   "cell_type": "code",
   "execution_count": 25,
   "metadata": {},
   "outputs": [
    {
     "data": {
      "text/html": [
       "<div>\n",
       "<style>\n",
       "    .dataframe thead tr:only-child th {\n",
       "        text-align: right;\n",
       "    }\n",
       "\n",
       "    .dataframe thead th {\n",
       "        text-align: left;\n",
       "    }\n",
       "\n",
       "    .dataframe tbody tr th {\n",
       "        vertical-align: top;\n",
       "    }\n",
       "</style>\n",
       "<table border=\"1\" class=\"dataframe\">\n",
       "  <thead>\n",
       "    <tr style=\"text-align: right;\">\n",
       "      <th></th>\n",
       "      <th>WORLDBANK/ARM_TOT - Value</th>\n",
       "      <th>WORLDBANK/LUX_TOT - Value</th>\n",
       "    </tr>\n",
       "  </thead>\n",
       "  <tbody>\n",
       "    <tr>\n",
       "      <th>count</th>\n",
       "      <td>39.000000</td>\n",
       "      <td>56.000000</td>\n",
       "    </tr>\n",
       "    <tr>\n",
       "      <th>mean</th>\n",
       "      <td>0.984252</td>\n",
       "      <td>1.032372</td>\n",
       "    </tr>\n",
       "    <tr>\n",
       "      <th>std</th>\n",
       "      <td>0.106110</td>\n",
       "      <td>0.048942</td>\n",
       "    </tr>\n",
       "    <tr>\n",
       "      <th>min</th>\n",
       "      <td>0.788817</td>\n",
       "      <td>0.958421</td>\n",
       "    </tr>\n",
       "    <tr>\n",
       "      <th>25%</th>\n",
       "      <td>0.923879</td>\n",
       "      <td>0.998661</td>\n",
       "    </tr>\n",
       "    <tr>\n",
       "      <th>50%</th>\n",
       "      <td>0.990004</td>\n",
       "      <td>1.023167</td>\n",
       "    </tr>\n",
       "    <tr>\n",
       "      <th>75%</th>\n",
       "      <td>0.994971</td>\n",
       "      <td>1.058624</td>\n",
       "    </tr>\n",
       "    <tr>\n",
       "      <th>max</th>\n",
       "      <td>1.304432</td>\n",
       "      <td>1.182021</td>\n",
       "    </tr>\n",
       "  </tbody>\n",
       "</table>\n",
       "</div>"
      ],
      "text/plain": [
       "       WORLDBANK/ARM_TOT - Value  WORLDBANK/LUX_TOT - Value\n",
       "count                  39.000000                  56.000000\n",
       "mean                    0.984252                   1.032372\n",
       "std                     0.106110                   0.048942\n",
       "min                     0.788817                   0.958421\n",
       "25%                     0.923879                   0.998661\n",
       "50%                     0.990004                   1.023167\n",
       "75%                     0.994971                   1.058624\n",
       "max                     1.304432                   1.182021"
      ]
     },
     "execution_count": 25,
     "metadata": {},
     "output_type": "execute_result"
    }
   ],
   "source": [
    "terms_of_trade.describe()"
   ]
  },
  {
   "cell_type": "code",
   "execution_count": 27,
   "metadata": {},
   "outputs": [
    {
     "name": "stdout",
     "output_type": "stream",
     "text": [
      "               Value\n",
      "Date                \n",
      "1977-12-31  0.942778\n",
      "1978-12-31  0.975823\n",
      "1979-12-31  1.077300\n",
      "1980-12-31  1.224179\n",
      "1981-12-31  1.188159\n",
      "1982-12-31  1.157612\n",
      "1983-12-31  1.144584\n",
      "1984-12-31  0.955641\n",
      "1985-12-31  1.045114\n",
      "1986-12-31  0.856211\n",
      "1987-12-31  0.875824\n",
      "1988-12-31  0.882685\n",
      "1989-12-31  0.927303\n",
      "1990-12-31  0.989428\n",
      "1991-12-31  0.989482\n",
      "1992-12-31  0.988263\n",
      "1993-12-31  1.304432\n",
      "1994-12-31  0.990201\n",
      "1995-12-31  0.990289\n",
      "1996-12-31  0.990551\n",
      "1997-12-31  0.990936\n",
      "1998-12-31  0.990034\n",
      "1999-12-31  0.990004\n",
      "2000-12-31  0.990376\n",
      "2001-12-31  0.990264\n",
      "2002-12-31  0.990264\n",
      "2003-12-31  0.990066\n",
      "2004-12-31  0.999006\n",
      "2005-12-31  1.000000\n",
      "2006-12-31  1.000000\n",
      "2007-12-31  0.964255\n",
      "2008-12-31  0.898831\n",
      "2009-12-31  0.788817\n",
      "2010-12-31  0.942455\n",
      "2011-12-31  0.920456\n",
      "2012-12-31  0.850643\n",
      "2013-12-31  0.859932\n",
      "2014-12-31  0.864656\n",
      "2015-12-31  0.868991\n"
     ]
    }
   ],
   "source": [
    "TOT_ARM=quandl.get('WORLDBANK/ARM_TOT', authtoken = key_1)\n",
    "print(TOT_ARM)"
   ]
  },
  {
   "cell_type": "code",
   "execution_count": 31,
   "metadata": {},
   "outputs": [
    {
     "name": "stdout",
     "output_type": "stream",
     "text": [
      "Second higest value for TOT of Armenia is 1.22417921215\n"
     ]
    }
   ],
   "source": [
    "sorting=TOT_ARM.sort_values(by='Value', ascending=0)\n",
    "higest_2nd=sorting['Value'][1]\n",
    "print ('Second higest value for TOT of Armenia is ' + str(higest_2nd))"
   ]
  },
  {
   "cell_type": "code",
   "execution_count": 32,
   "metadata": {
    "collapsed": true
   },
   "outputs": [],
   "source": [
    "import_ARM=quandl.get(\"WTO/MERCH_IMP_ARM\", authtoken = key_1)\n",
    "export_ARM=quandl.get(\"WTO/MERCH_EXP_ARM\", authtoken = key_1)"
   ]
  },
  {
   "cell_type": "code",
   "execution_count": 33,
   "metadata": {},
   "outputs": [
    {
     "name": "stdout",
     "output_type": "stream",
     "text": [
      "(              Value\n",
      "Year               \n",
      "2001-12-31   874.00\n",
      "2002-12-31   987.20\n",
      "2003-12-31  1279.50\n",
      "2004-12-31  1350.70\n",
      "2005-12-31  1801.70\n",
      "2006-12-31  2191.60\n",
      "2007-12-31  3267.80\n",
      "2008-12-31  4426.10\n",
      "2009-12-31  3321.10\n",
      "2010-12-31  3782.88\n",
      "2011-12-31  4145.30\n",
      "2012-12-31  4261.20\n",
      "2013-12-31  4385.90\n",
      "2014-12-31  4401.60,               Value\n",
      "Year               \n",
      "2001-12-31   343.00\n",
      "2002-12-31   505.16\n",
      "2003-12-31   685.60\n",
      "2004-12-31   722.90\n",
      "2005-12-31   973.90\n",
      "2006-12-31   985.10\n",
      "2007-12-31  1152.30\n",
      "2008-12-31  1057.20\n",
      "2009-12-31   710.20\n",
      "2010-12-31  1011.43\n",
      "2011-12-31  1334.30\n",
      "2012-12-31  1380.20\n",
      "2013-12-31  1478.70\n",
      "2014-12-31  1519.30)\n"
     ]
    }
   ],
   "source": [
    "print(import_ARM, export_ARM)"
   ]
  },
  {
   "cell_type": "code",
   "execution_count": 34,
   "metadata": {
    "collapsed": true
   },
   "outputs": [],
   "source": [
    "net_export=export_ARM-import_ARM"
   ]
  },
  {
   "cell_type": "code",
   "execution_count": 35,
   "metadata": {},
   "outputs": [
    {
     "data": {
      "image/png": "[encoded data removed]",
      "text/plain": [
       "<matplotlib.figure.Figure at 0xc87e9e8>"
      ]
     },
     "metadata": {},
     "output_type": "display_data"
    }
   ],
   "source": [
    "net_export.plot()\n",
    "plt.ylabel(\"Net_export\")\n",
    "plt.xlabel(\"Years\")\n",
    "plt.show()"
   ]
  },
  {
   "cell_type": "code",
   "execution_count": 36,
   "metadata": {},
   "outputs": [
    {
     "name": "stdout",
     "output_type": "stream",
     "text": [
      "<class 'pandas.core.frame.DataFrame'>\n",
      "DatetimeIndex: 14 entries, 2001-12-31 to 2014-12-31\n",
      "Data columns (total 1 columns):\n",
      "Value    14 non-null float64\n",
      "dtypes: float64(1)\n",
      "memory usage: 224.0 bytes\n"
     ]
    }
   ],
   "source": [
    "net_export.info()"
   ]
  },
  {
   "cell_type": "code",
   "execution_count": 37,
   "metadata": {},
   "outputs": [
    {
     "data": {
      "text/html": [
       "<div>\n",
       "<style>\n",
       "    .dataframe thead tr:only-child th {\n",
       "        text-align: right;\n",
       "    }\n",
       "\n",
       "    .dataframe thead th {\n",
       "        text-align: left;\n",
       "    }\n",
       "\n",
       "    .dataframe tbody tr th {\n",
       "        vertical-align: top;\n",
       "    }\n",
       "</style>\n",
       "<table border=\"1\" class=\"dataframe\">\n",
       "  <thead>\n",
       "    <tr style=\"text-align: right;\">\n",
       "      <th></th>\n",
       "      <th>Value</th>\n",
       "    </tr>\n",
       "  </thead>\n",
       "  <tbody>\n",
       "    <tr>\n",
       "      <th>count</th>\n",
       "      <td>14.000000</td>\n",
       "    </tr>\n",
       "    <tr>\n",
       "      <th>mean</th>\n",
       "      <td>-1901.235000</td>\n",
       "    </tr>\n",
       "    <tr>\n",
       "      <th>std</th>\n",
       "      <td>1112.179214</td>\n",
       "    </tr>\n",
       "    <tr>\n",
       "      <th>min</th>\n",
       "      <td>-3368.900000</td>\n",
       "    </tr>\n",
       "    <tr>\n",
       "      <th>25%</th>\n",
       "      <td>-2863.500000</td>\n",
       "    </tr>\n",
       "    <tr>\n",
       "      <th>50%</th>\n",
       "      <td>-2363.200000</td>\n",
       "    </tr>\n",
       "    <tr>\n",
       "      <th>75%</th>\n",
       "      <td>-677.800000</td>\n",
       "    </tr>\n",
       "    <tr>\n",
       "      <th>max</th>\n",
       "      <td>-482.040000</td>\n",
       "    </tr>\n",
       "  </tbody>\n",
       "</table>\n",
       "</div>"
      ],
      "text/plain": [
       "             Value\n",
       "count    14.000000\n",
       "mean  -1901.235000\n",
       "std    1112.179214\n",
       "min   -3368.900000\n",
       "25%   -2863.500000\n",
       "50%   -2363.200000\n",
       "75%    -677.800000\n",
       "max    -482.040000"
      ]
     },
     "execution_count": 37,
     "metadata": {},
     "output_type": "execute_result"
    }
   ],
   "source": [
    "net_export.describe()"
   ]
  },
  {
   "cell_type": "code",
   "execution_count": 42,
   "metadata": {
    "collapsed": true
   },
   "outputs": [],
   "source": [
    "stock_data=quandl.get(['EOD/CAT','EOD/GE','EOD/CVX'],  authtoken=key_1, trim_start=\"2007-01-03\", column_index= 4)"
   ]
  },
  {
   "cell_type": "code",
   "execution_count": 43,
   "metadata": {},
   "outputs": [
    {
     "data": {
      "text/html": [
       "<div>\n",
       "<style>\n",
       "    .dataframe thead tr:only-child th {\n",
       "        text-align: right;\n",
       "    }\n",
       "\n",
       "    .dataframe thead th {\n",
       "        text-align: left;\n",
       "    }\n",
       "\n",
       "    .dataframe tbody tr th {\n",
       "        vertical-align: top;\n",
       "    }\n",
       "</style>\n",
       "<table border=\"1\" class=\"dataframe\">\n",
       "  <thead>\n",
       "    <tr style=\"text-align: right;\">\n",
       "      <th></th>\n",
       "      <th>EOD/CAT - Close</th>\n",
       "      <th>EOD/GE - Close</th>\n",
       "      <th>EOD/CVX - Close</th>\n",
       "    </tr>\n",
       "    <tr>\n",
       "      <th>Date</th>\n",
       "      <th></th>\n",
       "      <th></th>\n",
       "      <th></th>\n",
       "    </tr>\n",
       "  </thead>\n",
       "  <tbody>\n",
       "    <tr>\n",
       "      <th>2007-01-03</th>\n",
       "      <td>61.16</td>\n",
       "      <td>37.97</td>\n",
       "      <td>70.97</td>\n",
       "    </tr>\n",
       "    <tr>\n",
       "      <th>2007-01-04</th>\n",
       "      <td>61.00</td>\n",
       "      <td>37.75</td>\n",
       "      <td>70.28</td>\n",
       "    </tr>\n",
       "    <tr>\n",
       "      <th>2007-01-05</th>\n",
       "      <td>60.22</td>\n",
       "      <td>37.56</td>\n",
       "      <td>70.55</td>\n",
       "    </tr>\n",
       "    <tr>\n",
       "      <th>2007-01-08</th>\n",
       "      <td>60.29</td>\n",
       "      <td>37.55</td>\n",
       "      <td>71.45</td>\n",
       "    </tr>\n",
       "    <tr>\n",
       "      <th>2007-01-09</th>\n",
       "      <td>60.62</td>\n",
       "      <td>37.55</td>\n",
       "      <td>70.63</td>\n",
       "    </tr>\n",
       "  </tbody>\n",
       "</table>\n",
       "</div>"
      ],
      "text/plain": [
       "            EOD/CAT - Close  EOD/GE - Close  EOD/CVX - Close\n",
       "Date                                                        \n",
       "2007-01-03            61.16           37.97            70.97\n",
       "2007-01-04            61.00           37.75            70.28\n",
       "2007-01-05            60.22           37.56            70.55\n",
       "2007-01-08            60.29           37.55            71.45\n",
       "2007-01-09            60.62           37.55            70.63"
      ]
     },
     "execution_count": 43,
     "metadata": {},
     "output_type": "execute_result"
    }
   ],
   "source": [
    "stock_data.head()"
   ]
  },
  {
   "cell_type": "code",
   "execution_count": 44,
   "metadata": {},
   "outputs": [
    {
     "data": {
      "text/html": [
       "<div>\n",
       "<style>\n",
       "    .dataframe thead tr:only-child th {\n",
       "        text-align: right;\n",
       "    }\n",
       "\n",
       "    .dataframe thead th {\n",
       "        text-align: left;\n",
       "    }\n",
       "\n",
       "    .dataframe tbody tr th {\n",
       "        vertical-align: top;\n",
       "    }\n",
       "</style>\n",
       "<table border=\"1\" class=\"dataframe\">\n",
       "  <thead>\n",
       "    <tr style=\"text-align: right;\">\n",
       "      <th></th>\n",
       "      <th>EOD/CAT - Close</th>\n",
       "      <th>EOD/GE - Close</th>\n",
       "      <th>EOD/CVX - Close</th>\n",
       "    </tr>\n",
       "  </thead>\n",
       "  <tbody>\n",
       "    <tr>\n",
       "      <th>EOD/CAT - Close</th>\n",
       "      <td>1.000000</td>\n",
       "      <td>0.259258</td>\n",
       "      <td>0.818267</td>\n",
       "    </tr>\n",
       "    <tr>\n",
       "      <th>EOD/GE - Close</th>\n",
       "      <td>0.259258</td>\n",
       "      <td>1.000000</td>\n",
       "      <td>0.221182</td>\n",
       "    </tr>\n",
       "    <tr>\n",
       "      <th>EOD/CVX - Close</th>\n",
       "      <td>0.818267</td>\n",
       "      <td>0.221182</td>\n",
       "      <td>1.000000</td>\n",
       "    </tr>\n",
       "  </tbody>\n",
       "</table>\n",
       "</div>"
      ],
      "text/plain": [
       "                 EOD/CAT - Close  EOD/GE - Close  EOD/CVX - Close\n",
       "EOD/CAT - Close         1.000000        0.259258         0.818267\n",
       "EOD/GE - Close          0.259258        1.000000         0.221182\n",
       "EOD/CVX - Close         0.818267        0.221182         1.000000"
      ]
     },
     "execution_count": 44,
     "metadata": {},
     "output_type": "execute_result"
    }
   ],
   "source": [
    "stock_data.corr()"
   ]
  },
  {
   "cell_type": "code",
   "execution_count": 45,
   "metadata": {
    "collapsed": true
   },
   "outputs": [],
   "source": [
    "import seaborn as sns"
   ]
  },
  {
   "cell_type": "code",
   "execution_count": 46,
   "metadata": {},
   "outputs": [
    {
     "data": {
      "text/plain": [
       "<matplotlib.axes._subplots.AxesSubplot at 0xde2a208>"
      ]
     },
     "execution_count": 46,
     "metadata": {},
     "output_type": "execute_result"
    },
    {
     "data": {
      "image/png": "[encoded data removed]",
      "text/plain": [
       "<matplotlib.figure.Figure at 0xde1aa58>"
      ]
     },
     "metadata": {},
     "output_type": "display_data"
    }
   ],
   "source": [
    "sns.heatmap(stock_data.corr())"
   ]
  },
  {
   "cell_type": "code",
   "execution_count": 64,
   "metadata": {
    "collapsed": true
   },
   "outputs": [],
   "source": [
    "with open(\"google_api.txt\",\"r\") as f:\n",
    "    key_2=f.read()\n",
    "gmaps=googlemaps.Client(key_2)"
   ]
  },
  {
   "cell_type": "code",
   "execution_count": 90,
   "metadata": {},
   "outputs": [
    {
     "name": "stdout",
     "output_type": "stream",
     "text": [
      "Havana, FL -  The distance from New York is 1,780 km\n",
      "Wichita, KS -  The distance from New York is 2,230 km\n",
      "Las Vegas, NV -  The distance from New York is 4,070 km\n",
      "Cancun, Mexico -  The distance from New York is 5,493 km\n",
      "Orlando, FL -  The distance from New York is 1,723 km\n",
      "Miami, FL -  The distance from New York is 2,053 km\n",
      "Los Angeles, CA -  The distance from New York is 4,501 km\n",
      "Sarasota, Fl -  The distance from New York is 1,897 km\n",
      "Sacramento, CA -  The distance from New York is 4,550 km\n",
      "Fairfield, Ct -  The distance from New York is 94.4 km\n"
     ]
    }
   ],
   "source": [
    "distances_from_NY =[]\n",
    "list_of_cities = [\"Havana, FL\",\"Wichita, KS\", \"Las Vegas, NV\",\"Cancun, Mexico\", \"Orlando, FL\", \n",
    "                  \"Miami, FL\",\"Los Angeles, CA\", \"Sarasota, Fl\", \"Sacramento, CA\",\"Fairfield, Ct\"]\n",
    "\n",
    "for i in list_of_cities:\n",
    "        directions=gmaps.directions(i,\"New York, NY\", units = \"metric\")\n",
    "        distances_from_NY.append(directions[0][\"legs\"][0][\"distance\"])\n",
    "        \n",
    "for i in range(0,len(distances_from_NY)):\n",
    "    print(list_of_cities[i] + ' - ' + \" The distance from New York\" + ' is ' + distances_from_NY[i][\"text\"])"
   ]
  }
 ],
 "metadata": {
  "kernelspec": {
   "display_name": "Python 2",
   "language": "python",
   "name": "python2"
  },
  "language_info": {
   "codemirror_mode": {
    "name": "ipython",
    "version": 2
   },
   "file_extension": ".py",
   "mimetype": "text/x-python",
   "name": "python",
   "nbconvert_exporter": "python",
   "pygments_lexer": "ipython2",
   "version": "2.7.13"
  }
 },
 "nbformat": 4,
 "nbformat_minor": 2
}
